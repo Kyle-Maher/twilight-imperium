{
 "cells": [
  {
   "cell_type": "code",
   "execution_count": 2,
   "metadata": {},
   "outputs": [],
   "source": [
    "import pandas as pd\n",
    "import numpy as np"
   ]
  },
  {
   "cell_type": "code",
   "execution_count": 3,
   "metadata": {},
   "outputs": [],
   "source": [
    "space_units_df = pd.read_csv('../Data/space_units_df.csv', index_col='Name')\n",
    "ground_units_df= pd.read_csv('../Data/ground_units_df.csv', index_col='Name')"
   ]
  },
  {
   "cell_type": "code",
   "execution_count": 5,
   "metadata": {},
   "outputs": [],
   "source": [
    "# Set Ships\n",
    "\n",
    "faction_A_units = {'War Sun': 2}\n",
    "faction_B_units = {'Dreadnought': 4}"
   ]
  },
  {
   "cell_type": "code",
   "execution_count": 6,
   "metadata": {},
   "outputs": [],
   "source": [
    "# Find Combat Values\n",
    "\n",
    "def get_ship_stats(faction_units):\n",
    "    faction_ship_stats = []\n",
    "    for unit in faction_units:\n",
    "        number_units = faction_units[unit]\n",
    "        for i in range(number_units):\n",
    "            name = unit\n",
    "            unit_combat_value = int(space_units_df.loc[unit]['Combat_Value'])\n",
    "            has_sustain_damage = space_units_df.loc[unit]['Has_Sustain_Damage']\n",
    "            shots = space_units_df.loc[unit]['Shots']\n",
    "            ship_stats = {'Name': name, 'Unit_Combat_Value': unit_combat_value, 'Shots': shots, 'Has_Sustain_Damage': has_sustain_damage}\n",
    "            faction_ship_stats.append(ship_stats)\n",
    "    return faction_ship_stats\n",
    "\n",
    "faction_A_ships = get_ship_stats(faction_A_units)\n",
    "faction_B_ships = get_ship_stats(faction_B_units)"
   ]
  },
  {
   "cell_type": "code",
   "execution_count": 7,
   "metadata": {},
   "outputs": [],
   "source": [
    "# Determine Hits\n",
    "\n",
    "def get_ship_hits(faction_ships):\n",
    "    hits = 0\n",
    "    for ship in faction_ships:\n",
    "        for i in range(ship['Shots']):\n",
    "            roll = np.random.randint(1, 11)\n",
    "            if roll >= ship['Unit_Combat_Value']:\n",
    "                hits += 1\n",
    "    return hits\n",
    "\n",
    "faction_A_hits = get_ship_hits(faction_A_ships)\n",
    "faction_B_hits = get_ship_hits(faction_B_ships)"
   ]
  },
  {
   "cell_type": "code",
   "execution_count": 8,
   "metadata": {},
   "outputs": [],
   "source": [
    "# Assign Hits\n",
    "\n",
    "def assign_hits(hits, faction_to_assign):\n",
    "    extra_hits = 0\n",
    "    for i in range(hits):\n",
    "        try:\n",
    "            if faction_to_assign[0]['Has_Sustain_Damage']:\n",
    "                faction_to_assign[0]['Has_Sustain_Damage'] = False\n",
    "            else:\n",
    "                faction_to_assign.remove(faction_to_assign[0])\n",
    "        except IndexError:\n",
    "            extra_hits += 1\n",
    "    return extra_hits\n",
    "\n",
    "extra_hits_A = assign_hits(faction_A_hits, faction_B_ships)\n",
    "extra_hits_B = assign_hits(faction_B_hits, faction_A_ships)"
   ]
  },
  {
   "cell_type": "code",
   "execution_count": 9,
   "metadata": {},
   "outputs": [
    {
     "data": {
      "text/plain": [
       "[{'Name': 'War Sun',\n",
       "  'Unit_Combat_Value': 3,\n",
       "  'Shots': np.int64(3),\n",
       "  'Has_Sustain_Damage': np.True_}]"
      ]
     },
     "execution_count": 9,
     "metadata": {},
     "output_type": "execute_result"
    }
   ],
   "source": [
    "faction_A_ships"
   ]
  },
  {
   "cell_type": "code",
   "execution_count": 10,
   "metadata": {},
   "outputs": [
    {
     "data": {
      "text/plain": [
       "[{'Name': 'Dreadnought',\n",
       "  'Unit_Combat_Value': 5,\n",
       "  'Shots': np.int64(1),\n",
       "  'Has_Sustain_Damage': False},\n",
       " {'Name': 'Dreadnought',\n",
       "  'Unit_Combat_Value': 5,\n",
       "  'Shots': np.int64(1),\n",
       "  'Has_Sustain_Damage': np.True_}]"
      ]
     },
     "execution_count": 10,
     "metadata": {},
     "output_type": "execute_result"
    }
   ],
   "source": [
    "faction_B_ships"
   ]
  },
  {
   "cell_type": "code",
   "execution_count": 11,
   "metadata": {},
   "outputs": [
    {
     "name": "stdout",
     "output_type": "stream",
     "text": [
      "Average Number of Rounds: 6.555\n",
      "Number of Games Ran: 1000\n"
     ]
    },
    {
     "data": {
      "text/html": [
       "<div>\n",
       "<style scoped>\n",
       "    .dataframe tbody tr th:only-of-type {\n",
       "        vertical-align: middle;\n",
       "    }\n",
       "\n",
       "    .dataframe tbody tr th {\n",
       "        vertical-align: top;\n",
       "    }\n",
       "\n",
       "    .dataframe thead th {\n",
       "        text-align: right;\n",
       "    }\n",
       "</style>\n",
       "<table border=\"1\" class=\"dataframe\">\n",
       "  <thead>\n",
       "    <tr style=\"text-align: right;\">\n",
       "      <th></th>\n",
       "      <th>Faction A wins</th>\n",
       "      <th>Faction B wins</th>\n",
       "      <th>Draw</th>\n",
       "    </tr>\n",
       "  </thead>\n",
       "  <tbody>\n",
       "    <tr>\n",
       "      <th>Percent</th>\n",
       "      <td>31.9</td>\n",
       "      <td>67.7</td>\n",
       "      <td>0.4</td>\n",
       "    </tr>\n",
       "  </tbody>\n",
       "</table>\n",
       "</div>"
      ],
      "text/plain": [
       "         Faction A wins  Faction B wins  Draw\n",
       "Percent            31.9            67.7   0.4"
      ]
     },
     "execution_count": 11,
     "metadata": {},
     "output_type": "execute_result"
    }
   ],
   "source": [
    "# MAIN\n",
    "\n",
    "\n",
    "faction_A_wins, faction_B_wins, draws = 0, 0, 0\n",
    "round_counts = []\n",
    "\n",
    "for i in range(0, 1000):\n",
    "\n",
    "    faction_A_units = {'Arc Secundus': 1, 'Carrier': 2, 'Fighter': 8}\n",
    "    faction_B_units = {'War Sun': 1, 'Carrier': 2, 'Fighter': 8}\n",
    "\n",
    "    # Find Combat Values\n",
    "    faction_A_ships = get_ship_stats(faction_A_units)\n",
    "    faction_B_ships = get_ship_stats(faction_B_units)\n",
    "\n",
    "    round_count = 0\n",
    "    while faction_A_ships and faction_B_ships:\n",
    "        # Determine Hits\n",
    "        faction_A_hits = get_ship_hits(faction_A_ships)\n",
    "        faction_B_hits = get_ship_hits(faction_B_ships)\n",
    "\n",
    "        # Assign Hits\n",
    "        assign_hits(faction_A_hits, faction_B_ships)\n",
    "        assign_hits(faction_B_hits, faction_A_ships)\n",
    "\n",
    "        #print(faction_A_ships)\n",
    "        #print(faction_B_ships)\n",
    "        round_count += 1\n",
    "    \n",
    "    round_counts.append(round_count)\n",
    "\n",
    "    if faction_A_ships:\n",
    "        faction_A_wins += 1\n",
    "    elif faction_B_ships:\n",
    "        faction_B_wins += 1\n",
    "    else:\n",
    "        draws += 1\n",
    "\n",
    "average_num_rounds = sum(round_counts) / len(round_counts)\n",
    "print(f'Average Number of Rounds: {average_num_rounds}')\n",
    "\n",
    "total_games = faction_A_wins + faction_B_wins + draws\n",
    "print(f'Number of Games Ran: {total_games}')\n",
    "\n",
    "faction_A_win_percentage = (faction_A_wins / total_games) * 100\n",
    "faction_B_win_percentage = (faction_B_wins /total_games) * 100\n",
    "draw_percentage = draws / (total_games) * 100\n",
    "\n",
    "df = pd.DataFrame([{'Faction A wins': faction_A_win_percentage, 'Faction B wins': faction_B_win_percentage, 'Draw': draw_percentage}], \n",
    "                  index=['Percent'])\n",
    "df.round(1)"
   ]
  }
 ],
 "metadata": {
  "kernelspec": {
   "display_name": ".venv",
   "language": "python",
   "name": "python3"
  },
  "language_info": {
   "codemirror_mode": {
    "name": "ipython",
    "version": 3
   },
   "file_extension": ".py",
   "mimetype": "text/x-python",
   "name": "python",
   "nbconvert_exporter": "python",
   "pygments_lexer": "ipython3",
   "version": "3.12.3"
  }
 },
 "nbformat": 4,
 "nbformat_minor": 2
}
