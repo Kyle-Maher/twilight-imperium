{
 "cells": [
  {
   "cell_type": "code",
   "execution_count": 186,
   "metadata": {},
   "outputs": [
    {
     "data": {
      "text/plain": [
       "\"Other players' units in this system losePLANETARY SHIELDAt the start of each space combat round, repair this shipBombardment 5 (x3)\""
      ]
     },
     "execution_count": 186,
     "metadata": {},
     "output_type": "execute_result"
    }
   ],
   "source": [
    "import pandas as pd\n",
    "from bs4 import BeautifulSoup\n",
    "import requests\n",
    "\n",
    "URL = 'https://twilight-imperium.fandom.com/wiki/Flagship'\n",
    "\n",
    "# Fetch the webpage\n",
    "page = requests.get(URL)\n",
    "soup = BeautifulSoup(page.content, 'html.parser')\n",
    "\n",
    "# Locate Each Faction Heading\n",
    "headings = soup.find_all('h3')\n",
    "clean_headings = []\n",
    "for heading in headings:\n",
    "    if heading.find('span', class_='mw-headline'):\n",
    "        clean_headings.append(heading)\n",
    "headings = clean_headings\n",
    "\n",
    "# Locate Each Heading Span\n",
    "spans = []\n",
    "for heading in headings:\n",
    "    span = heading.find('span', class_='mw-headline')\n",
    "    if span:\n",
    "        spans.append(span)\n",
    "\n",
    "# Locate Faction Name from each Span\n",
    "factions = []\n",
    "for span in spans:\n",
    "    name = span.get_text(strip=True).strip('[]')\n",
    "    factions.append(name)\n",
    "\n",
    "# Locate Each Faction Table from each Heading\n",
    "tables = []\n",
    "for heading in headings:\n",
    "    table = heading.find_next_sibling()\n",
    "    tables.append(table)\n",
    "# Currently missing The Nomad's flagship v2\n",
    "\n",
    "all_flagships = []\n",
    "for table in tables:\n",
    "    rows = table.find_all('tr')\n",
    "    name = rows[0].get_text(strip=True)\n",
    "    ability = rows[1].get_text(strip=True).strip('Sustain Damage')\n",
    "\n",
    "    paragraphs = rows[1].find_all('p')\n",
    "    bonus_abilities = [paragraph.get_text(strip=True) for paragraph in paragraphs]\n",
    "    bonus_abilities = ' & '.join(bonus_abilities)\n",
    "\n",
    "    cells = rows[2].find_all('td')\n",
    "    row_data = [cell.get_text(strip=True) for cell in cells]\n",
    "    cost = row_data[0]\n",
    "    combat = row_data[1]\n",
    "    move = row_data[2]\n",
    "    capacity = row_data[3]\n",
    "\n",
    "    flagship_stats = {'Name': name, 'Ability': ability, 'Bonus_Abilities': bonus_abilities, 'Cost': cost, 'Combat': combat, 'Move': move, 'Capacity': capacity}\n",
    "    all_flagships.append(flagship_stats)\n",
    "\n",
    "df = pd.DataFrame(all_flagships, index=factions)\n",
    "df.loc['The Barony of Letnev']['Ability']"
   ]
  },
  {
   "cell_type": "code",
   "execution_count": null,
   "metadata": {},
   "outputs": [],
   "source": []
  },
  {
   "cell_type": "code",
   "execution_count": 54,
   "metadata": {},
   "outputs": [],
   "source": [
    "ships = {\n",
    "    \"Dreadnought\": {\"Cost\": 4, \"Combat\": 5, \"Move\": 1, \"Capacity\": 1},\n",
    "    \"Carrier\": {\"Cost\": 3, \"Combat\": 9, \"Move\": 1, \"Capacity\": 4},\n",
    "    \"Cruiser\": {\"Cost\": 2, \"Combat\": 7, \"Move\": 2, \"Capacity\": 1},\n",
    "    \"Destroyer\": {\"Cost\": 1, \"Combat\": 9, \"Move\": 2, \"Capacity\": 0},\n",
    "}\n"
   ]
  }
 ],
 "metadata": {
  "kernelspec": {
   "display_name": ".venv",
   "language": "python",
   "name": "python3"
  },
  "language_info": {
   "codemirror_mode": {
    "name": "ipython",
    "version": 3
   },
   "file_extension": ".py",
   "mimetype": "text/x-python",
   "name": "python",
   "nbconvert_exporter": "python",
   "pygments_lexer": "ipython3",
   "version": "3.12.3"
  }
 },
 "nbformat": 4,
 "nbformat_minor": 2
}
